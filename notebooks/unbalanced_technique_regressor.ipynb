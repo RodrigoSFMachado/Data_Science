{
  "nbformat": 4,
  "nbformat_minor": 0,
  "metadata": {
    "colab": {
      "provenance": []
    },
    "kernelspec": {
      "name": "python3",
      "display_name": "Python 3"
    },
    "language_info": {
      "name": "python"
    }
  },
  "cells": [
    {
      "cell_type": "markdown",
      "source": [
        "#4. Conjuntos desbalanceados - parte II"
      ],
      "metadata": {
        "id": "xChURCoOKjhB"
      }
    },
    {
      "cell_type": "markdown",
      "source": [
        "Realizar um novo experimento para tentar mitigar o problema de desbalanceamento dos conjuntos de dados do exercício 3. Para cada conjunto de dados, marque todos os alvos diferentes de zero como 1 e o restante como 0.\n",
        "1. Treine um modelo de classificação binária a partir deste conjunto de dados. Chame esse\n",
        "modelo de C.\n",
        "2. Treine um modelo de regressão apenas nos pontos de dados que forem classificados por\n",
        "C como sendo da classe 1. Chame esse modelo de R.\n",
        "3. Para obter R′\n",
        "(x), i.e., a predição de regressão para um novo exemplo x, inicialmente\n",
        "compute C(x). Em seguida, use o valor computado para computar R′\n",
        "(x) da seguinte\n",
        "forma:\n",
        "R′\n",
        "(x) = {\n",
        "0 se C(x) = 0\n",
        "R(x) se C(x) = 1\n",
        "\n",
        "\n",
        "Conjuntos de dados: A602.pickle, A621.pickle, A627.pickle,\n",
        "A636.pickle, A652.pickle\n",
        "\n",
        "Número de variáveis independentes: 7\n",
        "\n",
        "Variável dependente: \"precipitation\"\n",
        "\n",
        "Modelo utilizado: \"RandomForestClassifier\" e \"LinearRegression\""
      ],
      "metadata": {
        "id": "FLCivV0XblmN"
      }
    },
    {
      "cell_type": "markdown",
      "source": [
        "##4.1 Importando bibliotecas"
      ],
      "metadata": {
        "id": "cNnm9znQ1HBk"
      }
    },
    {
      "cell_type": "code",
      "source": [
        "import pandas as pd\n",
        "import numpy as np\n",
        "\n",
        "from sklearn.ensemble import GradientBoostingRegressor\n",
        "from sklearn.ensemble import GradientBoostingClassifier\n",
        "from sklearn.ensemble import RandomForestClassifier\n",
        "from sklearn.ensemble import RandomForestRegressor\n",
        "from sklearn.neighbors import KNeighborsRegressor\n",
        "from sklearn.linear_model import Lasso\n",
        "from sklearn.linear_model import LinearRegression\n",
        "from sklearn.metrics import accuracy_score, confusion_matrix, classification_report\n",
        "from sklearn.metrics import r2_score\n",
        "from sklearn.metrics import mean_squared_error"
      ],
      "metadata": {
        "id": "HbZ4bq88KrEk"
      },
      "execution_count": 4,
      "outputs": []
    },
    {
      "cell_type": "markdown",
      "source": [
        "##4.2 Importação dos dados"
      ],
      "metadata": {
        "id": "fSKznqI01LNU"
      }
    },
    {
      "cell_type": "markdown",
      "source": [
        "Importação dos arquivos de treino e teste disponibilizados no github através da biblioteca pandas"
      ],
      "metadata": {
        "id": "XvDXB5lG1Ohd"
      }
    },
    {
      "cell_type": "code",
      "source": [
        "A602_train_E4 = pd.read_parquet(\"https://raw.githubusercontent.com/RodrigoSFMachado/Data_Science/main/data/parquet/A602_train.parquet.gzip\")\n",
        "A602_test_E4 = pd.read_parquet(\"https://raw.githubusercontent.com/RodrigoSFMachado/Data_Science/main/data/parquet/A602_test.parquet.gzip\")\n",
        "A602_val_E4 = pd.read_parquet(\"https://raw.githubusercontent.com/RodrigoSFMachado/Data_Science/main/data/parquet/A602_val.parquet.gzip\")\n",
        "A621_train_E4 = pd.read_parquet(\"https://raw.githubusercontent.com/RodrigoSFMachado/Data_Science/main/data/parquet/A621_train.parquet.gzip\")\n",
        "A621_test_E4 = pd.read_parquet(\"https://raw.githubusercontent.com/RodrigoSFMachado/Data_Science/main/data/parquet/A621_test.parquet.gzip\")\n",
        "A621_val_E4 = pd.read_parquet(\"https://raw.githubusercontent.com/RodrigoSFMachado/Data_Science/main/data/parquet/A621_val.parquet.gzip\")\n",
        "A627_train_E4 = pd.read_parquet(\"https://raw.githubusercontent.com/RodrigoSFMachado/Data_Science/main/data/parquet/A602_train.parquet.gzip\")\n",
        "A627_test_E4 = pd.read_parquet(\"https://raw.githubusercontent.com/RodrigoSFMachado/Data_Science/main/data/parquet/A602_test.parquet.gzip\")\n",
        "A627_val_E4 = pd.read_parquet(\"https://raw.githubusercontent.com/RodrigoSFMachado/Data_Science/main/data/parquet/A602_val.parquet.gzip\")\n",
        "A636_train_E4 = pd.read_parquet(\"https://raw.githubusercontent.com/RodrigoSFMachado/Data_Science/main/data/parquet/A636_train.parquet.gzip\")\n",
        "A636_test_E4 = pd.read_parquet(\"https://raw.githubusercontent.com/RodrigoSFMachado/Data_Science/main/data/parquet/A636_test.parquet.gzip\")\n",
        "A636_val_E4 = pd.read_parquet(\"https://raw.githubusercontent.com/RodrigoSFMachado/Data_Science/main/data/parquet/A636_val.parquet.gzip\")\n",
        "A652_train_E4 = pd.read_parquet(\"https://raw.githubusercontent.com/RodrigoSFMachado/Data_Science/main/data/parquet/A652_train.parquet.gzip\")\n",
        "A652_test_E4 = pd.read_parquet(\"https://raw.githubusercontent.com/RodrigoSFMachado/Data_Science/main/data/parquet/A652_test.parquet.gzip\")\n",
        "A652_val_E4 = pd.read_parquet(\"https://raw.githubusercontent.com/RodrigoSFMachado/Data_Science/main/data/parquet/A652_val.parquet.gzip\")"
      ],
      "metadata": {
        "id": "D8qy_bTIT8iQ"
      },
      "execution_count": 5,
      "outputs": []
    },
    {
      "cell_type": "markdown",
      "source": [
        "##4.3 Pre-processamento de dados"
      ],
      "metadata": {
        "id": "DT4cVnE-1Wi6"
      }
    },
    {
      "cell_type": "markdown",
      "source": [
        "Método two-way holdout: Agrupando dados de treinamento e validação"
      ],
      "metadata": {
        "id": "S1pBQzE71eXi"
      }
    },
    {
      "cell_type": "code",
      "source": [
        "A602_train_E4 = pd.concat([A602_train_E4, A602_val_E4])\n",
        "A621_train_E4 = pd.concat([A621_train_E4, A621_val_E4])\n",
        "A627_train_E4 = pd.concat([A627_train_E4, A627_val_E4])\n",
        "A636_train_E4 = pd.concat([A636_train_E4, A636_val_E4])\n",
        "A652_train_E4 = pd.concat([A652_train_E4, A652_val_E4])\n"
      ],
      "metadata": {
        "id": "zcLENO4WT8iQ"
      },
      "execution_count": 6,
      "outputs": []
    },
    {
      "cell_type": "markdown",
      "source": [
        "Separando a variável dependente (y) das features (X) nos dados de treino e teste e preparando os dados para o modelo de classificação, transformando os valores numéricos da variavél \"y\" em valores categóricos.\n",
        "\n",
        "Obs: A variável dependente y original (numérica) foi mantida no conjunto de dados X"
      ],
      "metadata": {
        "id": "GN0XKK4N1rut"
      }
    },
    {
      "cell_type": "code",
      "source": [
        "def data_preparation_E4(data):\n",
        "\n",
        "  data['categorical_precipitation'] = data['precipitation'].apply(lambda x: 0 if x== 0 else 1)\n",
        "\n",
        "  X = data.drop(['categorical_precipitation'], axis = 1)\n",
        "  y = data['categorical_precipitation']\n",
        "\n",
        "  return(X,y)"
      ],
      "metadata": {
        "id": "r9Gub5VeT8iR"
      },
      "execution_count": 7,
      "outputs": []
    },
    {
      "cell_type": "code",
      "source": [
        "X_A602_train_E4, y_A602_train_E4 = data_preparation_E4(A602_train_E4)\n",
        "X_A602_test_E4, y_A602_test_E4 = data_preparation_E4(A602_test_E4)\n",
        "X_A621_train_E4, y_A621_train_E4 = data_preparation_E4(A621_train_E4)\n",
        "X_A621_test_E4, y_A621_test_E4 = data_preparation_E4(A621_test_E4)\n",
        "X_A627_train_E4, y_A627_train_E4 = data_preparation_E4(A627_train_E4)\n",
        "X_A627_test_E4, y_A627_test_E4 = data_preparation_E4(A627_test_E4)\n",
        "X_A636_train_E4, y_A636_train_E4 = data_preparation_E4(A636_train_E4)\n",
        "X_A636_test_E4, y_A636_test_E4 = data_preparation_E4(A636_test_E4)\n",
        "X_A652_train_E4, y_A652_train_E4 = data_preparation_E4(A652_train_E4)\n",
        "X_A652_test_E4, y_A652_test_E4 = data_preparation_E4(A652_test_E4)"
      ],
      "metadata": {
        "id": "kAt2-FsIT8iR"
      },
      "execution_count": 8,
      "outputs": []
    },
    {
      "cell_type": "markdown",
      "source": [
        "##4.4 Criando/treinando/avaliando modelo"
      ],
      "metadata": {
        "id": "nCvykjMS2Sxr"
      }
    },
    {
      "cell_type": "code",
      "source": [
        "data_original_E4 = {\n",
        "    'A602' : (X_A602_train_E4 , y_A602_train_E4, X_A602_test_E4 , y_A602_test_E4) ,\n",
        "    'A621' : (X_A621_train_E4 , y_A621_train_E4, X_A621_test_E4 , y_A621_test_E4),\n",
        "    'A627' : (X_A627_train_E4 , y_A627_train_E4, X_A627_test_E4 , y_A627_test_E4),\n",
        "    'A636' : (X_A636_train_E4 , y_A636_train_E4, X_A636_test_E4 , y_A636_test_E4),\n",
        "    'A652' : (X_A652_train_E4 , y_A652_train_E4, X_A652_test_E4 , y_A652_test_E4)\n",
        "}"
      ],
      "metadata": {
        "id": "gFb9eeZ1UAqN"
      },
      "execution_count": 9,
      "outputs": []
    },
    {
      "cell_type": "markdown",
      "source": [
        "Treinamento do modelo de classificação \"RandomForestClassifier\" e regressão \"LinearRegression\" conforme solicitado pelo exercício\n",
        "\n",
        "Avaliação do modelo de regressão através da métrica: R²_score\n",
        "\n",
        "Comparação entre modelo final combinado (classificação e regressão) e modelo inicial único (regressão)"
      ],
      "metadata": {
        "id": "rrIaUx2e2dMN"
      }
    },
    {
      "cell_type": "code",
      "source": [
        "for name, (X_train, y_train, X_test, y_test) in data_original_E4.items():\n",
        "\n",
        "  #=================================================\n",
        "\n",
        "  X_modellr_train = X_train.drop(columns = 'precipitation')\n",
        "  y_modellr_train = X_train['precipitation']\n",
        "\n",
        "  X_modellr_test = X_test.drop(columns = 'precipitation')\n",
        "  y_modellr_test = X_test['precipitation']\n",
        "\n",
        "  inicial_model = LinearRegression()\n",
        "\n",
        "  inicial_model.fit(X_modellr_train, y_modellr_train)\n",
        "  y_modellr_pred = inicial_model.predict(X_modellr_test)\n",
        "\n",
        "  r2_inicial = r2_score(y_modellr_test, y_modellr_pred)\n",
        "\n",
        "\n",
        "  #=================================================\n",
        "\n",
        "  C = RandomForestClassifier(random_state = 7)\n",
        "\n",
        "  X_modelC_train_E4 = X_train.drop(columns= 'precipitation', axis = 1)\n",
        "  C.fit(X_modelC_train_E4, y_train)\n",
        "\n",
        "  #=================================================\n",
        "\n",
        "  y_modelC_train_pred_E4 = (C.predict_proba(X_modelC_train_E4)[:,1] >= 0.30).astype(int)\n",
        "  X_modelR_train_E4 = X_train\n",
        "  X_modelR_train_E4['y_modelC_train_pred'] = y_modelC_train_pred_E4\n",
        "  X_modelR_train_E4 = X_modelR_train_E4[X_modelR_train_E4['y_modelC_train_pred'] == 1]\n",
        "\n",
        "  y_modelR_train_E4 = X_modelR_train_E4['precipitation']\n",
        "  X_modelR_train_E4 = X_modelR_train_E4.drop(columns = ['y_modelC_train_pred', 'precipitation'], axis = 1)\n",
        "\n",
        "  R = LinearRegression()\n",
        "\n",
        "  R.fit(X_modelR_train_E4, y_modelR_train_E4)\n",
        "\n",
        "  #=================================================\n",
        "\n",
        "  X_modelC_test_E4 = X_test.drop(columns =  'precipitation', axis = 1)\n",
        "  y_modelC_test_pred_E4 = (C.predict_proba(X_modelC_test_E4)[:,1]>=0.30).astype(int)\n",
        "\n",
        "  X_modelR_test_E4 = X_test\n",
        "  X_modelR_test_E4['y_modelC_test_pred'] = y_modelC_test_pred_E4\n",
        "  X_modelR_test_E4 = X_modelR_test_E4[X_modelR_test_E4['y_modelC_test_pred'] == 1]\n",
        "\n",
        "  y_modelR_test_E4 = X_modelR_test_E4['precipitation']\n",
        "  X_modelR_test_E4 = X_modelR_test_E4.drop(columns = ['y_modelC_test_pred', 'precipitation'])\n",
        "\n",
        "  y_modelR_test_pred = R.predict(X_modelR_test_E4)\n",
        "\n",
        "  r2_final = r2_score(y_modelR_test_E4, y_modelR_test_pred)\n",
        "\n",
        "\n",
        "  print(f'\\n Original Data: {name} \\n R2_Score Inicial = {(r2_inicial):.2f}% \\n R2_Score Final = {(r2_final):.2f} \\n')\n",
        "  print('==================================================================')\n"
      ],
      "metadata": {
        "colab": {
          "base_uri": "https://localhost:8080/"
        },
        "id": "xNvKaMluzTJX",
        "outputId": "cff101e2-3ec0-41fd-fdc0-3c54ea188bef"
      },
      "execution_count": 10,
      "outputs": [
        {
          "output_type": "stream",
          "name": "stdout",
          "text": [
            "\n",
            " Original Data: A602 \n",
            " R2_Score Inicial = 0.02% \n",
            " R2_Score Final = -1.06 \n",
            "\n",
            "==================================================================\n",
            "\n",
            " Original Data: A621 \n",
            " R2_Score Inicial = 0.03% \n",
            " R2_Score Final = -0.00 \n",
            "\n",
            "==================================================================\n",
            "\n",
            " Original Data: A627 \n",
            " R2_Score Inicial = 0.02% \n",
            " R2_Score Final = -1.06 \n",
            "\n",
            "==================================================================\n",
            "\n",
            " Original Data: A636 \n",
            " R2_Score Inicial = 0.02% \n",
            " R2_Score Final = -0.04 \n",
            "\n",
            "==================================================================\n",
            "\n",
            " Original Data: A652 \n",
            " R2_Score Inicial = 0.01% \n",
            " R2_Score Final = -0.11 \n",
            "\n",
            "==================================================================\n"
          ]
        }
      ]
    }
  ]
}