{
  "nbformat": 4,
  "nbformat_minor": 0,
  "metadata": {
    "colab": {
      "provenance": []
    },
    "kernelspec": {
      "name": "python3",
      "display_name": "Python 3"
    },
    "language_info": {
      "name": "python"
    }
  },
  "cells": [
    {
      "cell_type": "markdown",
      "source": [
        "#6. Validação cruzada aninhada"
      ],
      "metadata": {
        "id": "C59LjSXpNOMF"
      }
    },
    {
      "cell_type": "markdown",
      "source": [
        "Realizar a validação cruzada aninhada (nested cross-validation) para\n",
        "encontrar (1) uma boa combinação de hiperparâmetros para ajustar um modelo e (2) um\n",
        "bom modelo para esse conjunto de dados.\n",
        "\n",
        "Conjuntos de dados: diamonds.csv\n",
        "\n",
        "Número de variáveis independentes: 11\n",
        "\n",
        "Variável dependente: \"price\"\n",
        "\n",
        "Modelos utilizados: RandomForest, KNeighbors"
      ],
      "metadata": {
        "id": "FnbDkUPudlXM"
      }
    },
    {
      "cell_type": "markdown",
      "source": [
        "##6.1 Importando bibliotecas"
      ],
      "metadata": {
        "id": "P7Gz8awx8Gvz"
      }
    },
    {
      "cell_type": "code",
      "source": [
        "import pandas as pd\n",
        "import numpy as np\n",
        "\n",
        "from sklearn.preprocessing import OrdinalEncoder\n",
        "from sklearn.preprocessing import StandardScaler\n",
        "from sklearn.ensemble import RandomForestRegressor\n",
        "from sklearn.neighbors import KNeighborsRegressor\n",
        "\n",
        "from sklearn.model_selection import KFold, cross_val_score, GridSearchCV\n",
        "from sklearn.metrics import mean_squared_error"
      ],
      "metadata": {
        "id": "spjGjIKMvd0m"
      },
      "execution_count": 2,
      "outputs": []
    },
    {
      "cell_type": "markdown",
      "source": [
        "##6.2 Importando dados"
      ],
      "metadata": {
        "id": "O-l2hi9V8J2V"
      }
    },
    {
      "cell_type": "code",
      "source": [
        "data_E6 = pd.read_csv(\"https://raw.githubusercontent.com/RodrigoSFMachado/Data_Science/main/data/diamonds.csv\")"
      ],
      "metadata": {
        "id": "eAbXE9EeNTnV"
      },
      "execution_count": 3,
      "outputs": []
    },
    {
      "cell_type": "markdown",
      "source": [
        "##6.3 Pre-processamento de dados"
      ],
      "metadata": {
        "id": "5M-s_LzZ8RLN"
      }
    },
    {
      "cell_type": "markdown",
      "source": [
        "Separando a variável dependente (y) das features (X) nos dados de treino e teste"
      ],
      "metadata": {
        "id": "TA7XCg2C8wWl"
      }
    },
    {
      "cell_type": "code",
      "source": [
        "target_E6 = ['price']\n",
        "y_E6 = data_E6[target_E6]\n",
        "X_E6 = data_E6.drop(target_E6, axis=1)\n",
        "\n",
        "y_final_E6 = y_E6.to_numpy()\n",
        "y_final_E6 = y_final_E6.ravel()"
      ],
      "metadata": {
        "id": "ASYxBbgWv3Zg"
      },
      "execution_count": 4,
      "outputs": []
    },
    {
      "cell_type": "markdown",
      "source": [
        "As variáveis \"cut\", \"color\" e \"clarity\" são classificadas como variáveis categóricas ordinais. Portanto, elas foram categorizadas de acordo com as sequências adequadas de ordem de grandeza.\n",
        "\n",
        "Realizando o escalonamento dos dados numéricos para mitigar discrepâncias entre as faixas de valores."
      ],
      "metadata": {
        "id": "LGMwe5hW9A6G"
      }
    },
    {
      "cell_type": "code",
      "source": [
        "standard_labels_E6 = ['carat', 'depth', 'table', 'x', 'y', 'z']\n",
        "\n",
        "enconder_labels_E6 = {\n",
        "    'cut' : ['Fair', 'Good', 'Very Good', 'Premium', 'Ideal'],\n",
        "    'color' : ['J', 'I', 'H', 'G', 'F', 'E', 'D'],\n",
        "    'clarity' : ['I1', 'SI2', 'SI1', 'VS2', 'VS1','VVS2', 'VVS1', 'IF']\n",
        "\n",
        "}"
      ],
      "metadata": {
        "id": "GwTpYlYav3Ze"
      },
      "execution_count": 5,
      "outputs": []
    },
    {
      "cell_type": "code",
      "source": [
        "oe_E6 = OrdinalEncoder(categories = list(enconder_labels_E6.values()))\n",
        "scaler_E6 = StandardScaler()\n",
        "\n",
        "def data_preparation_E6(X):\n",
        "\n",
        "\n",
        "\n",
        "  X_encoding_E6 = X[list(enconder_labels_E6)]\n",
        "  X_encoding_E6 = oe_E6.fit_transform(X_encoding_E6)\n",
        "  X_encoding_E6 = pd.DataFrame(X_encoding_E6, columns= list(enconder_labels_E6))\n",
        "\n",
        "  X_standard_E6 = X[standard_labels_E6]\n",
        "  X_standard_E6 = scaler_E6.fit_transform(X_standard_E6)\n",
        "  X_standard_E6 = pd.DataFrame(X_standard_E6, columns= standard_labels_E6)\n",
        "\n",
        "  X_final_E6 = X_encoding_E6.join(X_standard_E6)\n",
        "\n",
        "  return(X_final_E6)\n"
      ],
      "metadata": {
        "id": "0C5gBufT4Wr9"
      },
      "execution_count": 6,
      "outputs": []
    },
    {
      "cell_type": "code",
      "source": [
        "X_final_E6 =  data_preparation_E6(X_E6)\n",
        "X_final_E6.head(3)"
      ],
      "metadata": {
        "colab": {
          "base_uri": "https://localhost:8080/",
          "height": 143
        },
        "id": "2LJoWpTz6T6y",
        "outputId": "d61b591b-5f79-45e0-c756-1ca3cdc723ee"
      },
      "execution_count": 7,
      "outputs": [
        {
          "output_type": "execute_result",
          "data": {
            "text/plain": [
              "   cut  color  clarity     carat     depth     table         x         y  \\\n",
              "0  4.0    5.0      1.0 -1.198168 -0.174092 -1.099672 -1.587837 -1.536196   \n",
              "1  3.0    5.0      2.0 -1.240361 -1.360738  1.585529 -1.641325 -1.658774   \n",
              "2  1.0    5.0      4.0 -1.198168 -3.385019  3.375663 -1.498691 -1.457395   \n",
              "\n",
              "          z  \n",
              "0 -1.571129  \n",
              "1 -1.741175  \n",
              "2 -1.741175  "
            ],
            "text/html": [
              "\n",
              "  <div id=\"df-197e9e75-d1e7-41f9-bab5-517ca26b80a9\" class=\"colab-df-container\">\n",
              "    <div>\n",
              "<style scoped>\n",
              "    .dataframe tbody tr th:only-of-type {\n",
              "        vertical-align: middle;\n",
              "    }\n",
              "\n",
              "    .dataframe tbody tr th {\n",
              "        vertical-align: top;\n",
              "    }\n",
              "\n",
              "    .dataframe thead th {\n",
              "        text-align: right;\n",
              "    }\n",
              "</style>\n",
              "<table border=\"1\" class=\"dataframe\">\n",
              "  <thead>\n",
              "    <tr style=\"text-align: right;\">\n",
              "      <th></th>\n",
              "      <th>cut</th>\n",
              "      <th>color</th>\n",
              "      <th>clarity</th>\n",
              "      <th>carat</th>\n",
              "      <th>depth</th>\n",
              "      <th>table</th>\n",
              "      <th>x</th>\n",
              "      <th>y</th>\n",
              "      <th>z</th>\n",
              "    </tr>\n",
              "  </thead>\n",
              "  <tbody>\n",
              "    <tr>\n",
              "      <th>0</th>\n",
              "      <td>4.0</td>\n",
              "      <td>5.0</td>\n",
              "      <td>1.0</td>\n",
              "      <td>-1.198168</td>\n",
              "      <td>-0.174092</td>\n",
              "      <td>-1.099672</td>\n",
              "      <td>-1.587837</td>\n",
              "      <td>-1.536196</td>\n",
              "      <td>-1.571129</td>\n",
              "    </tr>\n",
              "    <tr>\n",
              "      <th>1</th>\n",
              "      <td>3.0</td>\n",
              "      <td>5.0</td>\n",
              "      <td>2.0</td>\n",
              "      <td>-1.240361</td>\n",
              "      <td>-1.360738</td>\n",
              "      <td>1.585529</td>\n",
              "      <td>-1.641325</td>\n",
              "      <td>-1.658774</td>\n",
              "      <td>-1.741175</td>\n",
              "    </tr>\n",
              "    <tr>\n",
              "      <th>2</th>\n",
              "      <td>1.0</td>\n",
              "      <td>5.0</td>\n",
              "      <td>4.0</td>\n",
              "      <td>-1.198168</td>\n",
              "      <td>-3.385019</td>\n",
              "      <td>3.375663</td>\n",
              "      <td>-1.498691</td>\n",
              "      <td>-1.457395</td>\n",
              "      <td>-1.741175</td>\n",
              "    </tr>\n",
              "  </tbody>\n",
              "</table>\n",
              "</div>\n",
              "    <div class=\"colab-df-buttons\">\n",
              "\n",
              "  <div class=\"colab-df-container\">\n",
              "    <button class=\"colab-df-convert\" onclick=\"convertToInteractive('df-197e9e75-d1e7-41f9-bab5-517ca26b80a9')\"\n",
              "            title=\"Convert this dataframe to an interactive table.\"\n",
              "            style=\"display:none;\">\n",
              "\n",
              "  <svg xmlns=\"http://www.w3.org/2000/svg\" height=\"24px\" viewBox=\"0 -960 960 960\">\n",
              "    <path d=\"M120-120v-720h720v720H120Zm60-500h600v-160H180v160Zm220 220h160v-160H400v160Zm0 220h160v-160H400v160ZM180-400h160v-160H180v160Zm440 0h160v-160H620v160ZM180-180h160v-160H180v160Zm440 0h160v-160H620v160Z\"/>\n",
              "  </svg>\n",
              "    </button>\n",
              "\n",
              "  <style>\n",
              "    .colab-df-container {\n",
              "      display:flex;\n",
              "      gap: 12px;\n",
              "    }\n",
              "\n",
              "    .colab-df-convert {\n",
              "      background-color: #E8F0FE;\n",
              "      border: none;\n",
              "      border-radius: 50%;\n",
              "      cursor: pointer;\n",
              "      display: none;\n",
              "      fill: #1967D2;\n",
              "      height: 32px;\n",
              "      padding: 0 0 0 0;\n",
              "      width: 32px;\n",
              "    }\n",
              "\n",
              "    .colab-df-convert:hover {\n",
              "      background-color: #E2EBFA;\n",
              "      box-shadow: 0px 1px 2px rgba(60, 64, 67, 0.3), 0px 1px 3px 1px rgba(60, 64, 67, 0.15);\n",
              "      fill: #174EA6;\n",
              "    }\n",
              "\n",
              "    .colab-df-buttons div {\n",
              "      margin-bottom: 4px;\n",
              "    }\n",
              "\n",
              "    [theme=dark] .colab-df-convert {\n",
              "      background-color: #3B4455;\n",
              "      fill: #D2E3FC;\n",
              "    }\n",
              "\n",
              "    [theme=dark] .colab-df-convert:hover {\n",
              "      background-color: #434B5C;\n",
              "      box-shadow: 0px 1px 3px 1px rgba(0, 0, 0, 0.15);\n",
              "      filter: drop-shadow(0px 1px 2px rgba(0, 0, 0, 0.3));\n",
              "      fill: #FFFFFF;\n",
              "    }\n",
              "  </style>\n",
              "\n",
              "    <script>\n",
              "      const buttonEl =\n",
              "        document.querySelector('#df-197e9e75-d1e7-41f9-bab5-517ca26b80a9 button.colab-df-convert');\n",
              "      buttonEl.style.display =\n",
              "        google.colab.kernel.accessAllowed ? 'block' : 'none';\n",
              "\n",
              "      async function convertToInteractive(key) {\n",
              "        const element = document.querySelector('#df-197e9e75-d1e7-41f9-bab5-517ca26b80a9');\n",
              "        const dataTable =\n",
              "          await google.colab.kernel.invokeFunction('convertToInteractive',\n",
              "                                                    [key], {});\n",
              "        if (!dataTable) return;\n",
              "\n",
              "        const docLinkHtml = 'Like what you see? Visit the ' +\n",
              "          '<a target=\"_blank\" href=https://colab.research.google.com/notebooks/data_table.ipynb>data table notebook</a>'\n",
              "          + ' to learn more about interactive tables.';\n",
              "        element.innerHTML = '';\n",
              "        dataTable['output_type'] = 'display_data';\n",
              "        await google.colab.output.renderOutput(dataTable, element);\n",
              "        const docLink = document.createElement('div');\n",
              "        docLink.innerHTML = docLinkHtml;\n",
              "        element.appendChild(docLink);\n",
              "      }\n",
              "    </script>\n",
              "  </div>\n",
              "\n",
              "\n",
              "<div id=\"df-d145a918-4ffc-42eb-b565-cfe78bd49335\">\n",
              "  <button class=\"colab-df-quickchart\" onclick=\"quickchart('df-d145a918-4ffc-42eb-b565-cfe78bd49335')\"\n",
              "            title=\"Suggest charts\"\n",
              "            style=\"display:none;\">\n",
              "\n",
              "<svg xmlns=\"http://www.w3.org/2000/svg\" height=\"24px\"viewBox=\"0 0 24 24\"\n",
              "     width=\"24px\">\n",
              "    <g>\n",
              "        <path d=\"M19 3H5c-1.1 0-2 .9-2 2v14c0 1.1.9 2 2 2h14c1.1 0 2-.9 2-2V5c0-1.1-.9-2-2-2zM9 17H7v-7h2v7zm4 0h-2V7h2v10zm4 0h-2v-4h2v4z\"/>\n",
              "    </g>\n",
              "</svg>\n",
              "  </button>\n",
              "\n",
              "<style>\n",
              "  .colab-df-quickchart {\n",
              "      --bg-color: #E8F0FE;\n",
              "      --fill-color: #1967D2;\n",
              "      --hover-bg-color: #E2EBFA;\n",
              "      --hover-fill-color: #174EA6;\n",
              "      --disabled-fill-color: #AAA;\n",
              "      --disabled-bg-color: #DDD;\n",
              "  }\n",
              "\n",
              "  [theme=dark] .colab-df-quickchart {\n",
              "      --bg-color: #3B4455;\n",
              "      --fill-color: #D2E3FC;\n",
              "      --hover-bg-color: #434B5C;\n",
              "      --hover-fill-color: #FFFFFF;\n",
              "      --disabled-bg-color: #3B4455;\n",
              "      --disabled-fill-color: #666;\n",
              "  }\n",
              "\n",
              "  .colab-df-quickchart {\n",
              "    background-color: var(--bg-color);\n",
              "    border: none;\n",
              "    border-radius: 50%;\n",
              "    cursor: pointer;\n",
              "    display: none;\n",
              "    fill: var(--fill-color);\n",
              "    height: 32px;\n",
              "    padding: 0;\n",
              "    width: 32px;\n",
              "  }\n",
              "\n",
              "  .colab-df-quickchart:hover {\n",
              "    background-color: var(--hover-bg-color);\n",
              "    box-shadow: 0 1px 2px rgba(60, 64, 67, 0.3), 0 1px 3px 1px rgba(60, 64, 67, 0.15);\n",
              "    fill: var(--button-hover-fill-color);\n",
              "  }\n",
              "\n",
              "  .colab-df-quickchart-complete:disabled,\n",
              "  .colab-df-quickchart-complete:disabled:hover {\n",
              "    background-color: var(--disabled-bg-color);\n",
              "    fill: var(--disabled-fill-color);\n",
              "    box-shadow: none;\n",
              "  }\n",
              "\n",
              "  .colab-df-spinner {\n",
              "    border: 2px solid var(--fill-color);\n",
              "    border-color: transparent;\n",
              "    border-bottom-color: var(--fill-color);\n",
              "    animation:\n",
              "      spin 1s steps(1) infinite;\n",
              "  }\n",
              "\n",
              "  @keyframes spin {\n",
              "    0% {\n",
              "      border-color: transparent;\n",
              "      border-bottom-color: var(--fill-color);\n",
              "      border-left-color: var(--fill-color);\n",
              "    }\n",
              "    20% {\n",
              "      border-color: transparent;\n",
              "      border-left-color: var(--fill-color);\n",
              "      border-top-color: var(--fill-color);\n",
              "    }\n",
              "    30% {\n",
              "      border-color: transparent;\n",
              "      border-left-color: var(--fill-color);\n",
              "      border-top-color: var(--fill-color);\n",
              "      border-right-color: var(--fill-color);\n",
              "    }\n",
              "    40% {\n",
              "      border-color: transparent;\n",
              "      border-right-color: var(--fill-color);\n",
              "      border-top-color: var(--fill-color);\n",
              "    }\n",
              "    60% {\n",
              "      border-color: transparent;\n",
              "      border-right-color: var(--fill-color);\n",
              "    }\n",
              "    80% {\n",
              "      border-color: transparent;\n",
              "      border-right-color: var(--fill-color);\n",
              "      border-bottom-color: var(--fill-color);\n",
              "    }\n",
              "    90% {\n",
              "      border-color: transparent;\n",
              "      border-bottom-color: var(--fill-color);\n",
              "    }\n",
              "  }\n",
              "</style>\n",
              "\n",
              "  <script>\n",
              "    async function quickchart(key) {\n",
              "      const quickchartButtonEl =\n",
              "        document.querySelector('#' + key + ' button');\n",
              "      quickchartButtonEl.disabled = true;  // To prevent multiple clicks.\n",
              "      quickchartButtonEl.classList.add('colab-df-spinner');\n",
              "      try {\n",
              "        const charts = await google.colab.kernel.invokeFunction(\n",
              "            'suggestCharts', [key], {});\n",
              "      } catch (error) {\n",
              "        console.error('Error during call to suggestCharts:', error);\n",
              "      }\n",
              "      quickchartButtonEl.classList.remove('colab-df-spinner');\n",
              "      quickchartButtonEl.classList.add('colab-df-quickchart-complete');\n",
              "    }\n",
              "    (() => {\n",
              "      let quickchartButtonEl =\n",
              "        document.querySelector('#df-d145a918-4ffc-42eb-b565-cfe78bd49335 button');\n",
              "      quickchartButtonEl.style.display =\n",
              "        google.colab.kernel.accessAllowed ? 'block' : 'none';\n",
              "    })();\n",
              "  </script>\n",
              "</div>\n",
              "\n",
              "    </div>\n",
              "  </div>\n"
            ],
            "application/vnd.google.colaboratory.intrinsic+json": {
              "type": "dataframe",
              "variable_name": "X_final_E6",
              "summary": "{\n  \"name\": \"X_final_E6\",\n  \"rows\": 53940,\n  \"fields\": [\n    {\n      \"column\": \"cut\",\n      \"properties\": {\n        \"dtype\": \"number\",\n        \"std\": 1.1165999071874644,\n        \"min\": 0.0,\n        \"max\": 4.0,\n        \"num_unique_values\": 5,\n        \"samples\": [\n          3.0,\n          0.0,\n          1.0\n        ],\n        \"semantic_type\": \"\",\n        \"description\": \"\"\n      }\n    },\n    {\n      \"column\": \"color\",\n      \"properties\": {\n        \"dtype\": \"number\",\n        \"std\": 1.7011047768935017,\n        \"min\": 0.0,\n        \"max\": 6.0,\n        \"num_unique_values\": 7,\n        \"samples\": [\n          5.0,\n          1.0,\n          3.0\n        ],\n        \"semantic_type\": \"\",\n        \"description\": \"\"\n      }\n    },\n    {\n      \"column\": \"clarity\",\n      \"properties\": {\n        \"dtype\": \"number\",\n        \"std\": 1.6471360690053214,\n        \"min\": 0.0,\n        \"max\": 7.0,\n        \"num_unique_values\": 8,\n        \"samples\": [\n          2.0,\n          6.0,\n          1.0\n        ],\n        \"semantic_type\": \"\",\n        \"description\": \"\"\n      }\n    },\n    {\n      \"column\": \"carat\",\n      \"properties\": {\n        \"dtype\": \"number\",\n        \"std\": 1.000009269687658,\n        \"min\": -1.261458030036275,\n        \"max\": 8.886074637107878,\n        \"num_unique_values\": 273,\n        \"samples\": [\n          -0.05894376386742515,\n          1.6498922985830458,\n          -0.3121046620082356\n        ],\n        \"semantic_type\": \"\",\n        \"description\": \"\"\n      }\n    },\n    {\n      \"column\": \"depth\",\n      \"properties\": {\n        \"dtype\": \"number\",\n        \"std\": 1.000009269687658,\n        \"min\": -13.087602738397587,\n        \"max\": 12.041392087719215,\n        \"num_unique_values\": 184,\n        \"samples\": [\n          -0.5231053253391859,\n          0.8031471793725333,\n          5.898748908001776\n        ],\n        \"semantic_type\": \"\",\n        \"description\": \"\"\n      }\n    },\n    {\n      \"column\": \"table\",\n      \"properties\": {\n        \"dtype\": \"number\",\n        \"std\": 1.0000092696876581,\n        \"min\": -6.470073385931448,\n        \"max\": 16.801665993491635,\n        \"num_unique_values\": 127,\n        \"samples\": [\n          -1.189178680600826,\n          1.8092954317479188,\n          0.06391497829118815\n        ],\n        \"semantic_type\": \"\",\n        \"description\": \"\"\n      }\n    },\n    {\n      \"column\": \"x\",\n      \"properties\": {\n        \"dtype\": \"number\",\n        \"std\": 1.0000092696876581,\n        \"min\": -5.109120063383867,\n        \"max\": 4.465202792140503,\n        \"num_unique_values\": 554,\n        \"samples\": [\n          0.13268798042277116,\n          -0.03669017065261294,\n          -0.99947123992322\n        ],\n        \"semantic_type\": \"\",\n        \"description\": \"\"\n      }\n    },\n    {\n      \"column\": \"y\",\n      \"properties\": {\n        \"dtype\": \"number\",\n        \"std\": 1.0000092696876581,\n        \"min\": -5.020930755324094,\n        \"max\": 46.54964784548917,\n        \"num_unique_values\": 552,\n        \"samples\": [\n          -0.35418739467325,\n          -0.10903014495800843,\n          -0.424232323163319\n        ],\n        \"semantic_type\": \"\",\n        \"description\": \"\"\n      }\n    },\n    {\n      \"column\": \"z\",\n      \"properties\": {\n        \"dtype\": \"number\",\n        \"std\": 1.0000092696876581,\n        \"min\": -5.014556274993803,\n        \"max\": 40.047575983698835,\n        \"num_unique_values\": 375,\n        \"samples\": [\n          -0.25327437596212804,\n          -1.5427882236165396,\n          -1.1885261775576352\n        ],\n        \"semantic_type\": \"\",\n        \"description\": \"\"\n      }\n    }\n  ]\n}"
            }
          },
          "metadata": {},
          "execution_count": 7
        }
      ]
    },
    {
      "cell_type": "markdown",
      "source": [
        "##6.4 Criando/treinando/avaliando modelo"
      ],
      "metadata": {
        "id": "EcFfQI5u9a4f"
      }
    },
    {
      "cell_type": "code",
      "source": [
        "models_parameters_E6 = {\n",
        "    'rfr' : (RandomForestRegressor(),\n",
        "             {'max_depth' : [10,50,100]}),\n",
        "    'knnr' : (KNeighborsRegressor(),\n",
        "              {'n_neighbors' : [5,7,10]})\n",
        "}\n",
        "\n",
        "cv_out_E6 = KFold(5)\n",
        "cv_in_E6 = KFold(3)\n",
        "\n"
      ],
      "metadata": {
        "id": "_yDpJXUC1La6"
      },
      "execution_count": 8,
      "outputs": []
    },
    {
      "cell_type": "markdown",
      "source": [
        "Método validação cruzada aninhada:\n",
        "\n",
        "Treinamento dos modelos de regressão RandomForestRegressor e KneighborsRegressor explorando os hyperparâmetros listados\n",
        "\n",
        "Avaliação do modelo com melhor resultado através da métrica: MSE(mean-squared-error)"
      ],
      "metadata": {
        "id": "xX81hOdm9_t-"
      }
    },
    {
      "cell_type": "code",
      "source": [
        "average_out_each_model = dict()\n",
        "\n",
        "for name, (model, parameters) in models_parameters_E6.items():\n",
        "\n",
        "  models_bests_hyperparameters = GridSearchCV(\n",
        "      estimator = model, param_grid= parameters, cv = cv_in_E6, scoring = 'neg_mean_squared_error'\n",
        "  )\n",
        "\n",
        "  scores_outer_folds = cross_val_score(\n",
        "      models_bests_hyperparameters, X_final_E6, y_final_E6, cv = cv_out_E6, scoring = 'neg_mean_squared_error'\n",
        "  )\n",
        "\n",
        "  average_out_each_model[name] = np.mean (scores_outer_folds)\n",
        "\n",
        "  print(f'\\n Model: {name} \\n MSE in the 5 outer folds: {scores_outer_folds} \\n MSE_AVG = {average_out_each_model[name]:.2f} \\n')\n",
        "  print('===================================================================================')\n",
        "\n"
      ],
      "metadata": {
        "colab": {
          "base_uri": "https://localhost:8080/"
        },
        "id": "23ynFPMq8UPi",
        "outputId": "de857876-cc03-47b3-a7d8-6c2996a2251d"
      },
      "execution_count": 9,
      "outputs": [
        {
          "output_type": "stream",
          "name": "stdout",
          "text": [
            "\n",
            " Model: rfr \n",
            " MSE in the 5 outer folds: [  -653063.43067266  -2177112.6313249  -13940859.90572511\n",
            "    -61624.94899739   -244483.43886147] \n",
            " MSE_AVG = -3415428.87 \n",
            "\n",
            "===================================================================================\n",
            "\n",
            " Model: knnr \n",
            " MSE in the 5 outer folds: [  -841435.97051724  -3399308.58068966 -15713040.6794772\n",
            "   -114510.42348535   -533628.40952911] \n",
            " MSE_AVG = -4120384.81 \n",
            "\n",
            "===================================================================================\n"
          ]
        }
      ]
    },
    {
      "cell_type": "markdown",
      "source": [
        "Identificando o hyperparâmetro com o melhor resultado"
      ],
      "metadata": {
        "id": "cm4s0MKj_Z03"
      }
    },
    {
      "cell_type": "code",
      "source": [
        "best_model_name_E6, best_avg_E6 = max(average_out_each_model.items(), key=(lambda avg: avg[1]))\n",
        "best_model_E6, best_model_parameters_E6 = models_parameters_E6[best_model_name_E6]\n",
        "\n",
        "final_model_E6 = GridSearchCV(best_model_E6, best_model_parameters_E6, cv = cv_in_E6)\n",
        "final_model_E6.fit(X_final_E6,y_final_E6)\n",
        "\n",
        "print(f'\\n Best model: {best_model_E6} \\n Error (negative mean squared error): {best_avg_E6:.0f} \\n Best parameter: {final_model_E6.best_params_}')"
      ],
      "metadata": {
        "colab": {
          "base_uri": "https://localhost:8080/"
        },
        "id": "SDdRS1ay1flN",
        "outputId": "53d248ac-7421-4dc5-c09b-b12dda3bbf0c"
      },
      "execution_count": 10,
      "outputs": [
        {
          "output_type": "stream",
          "name": "stdout",
          "text": [
            "\n",
            " Best model: RandomForestRegressor() \n",
            " Error (negative mean squared error): -3415429 \n",
            " Best parameter: {'max_depth': 100}\n"
          ]
        }
      ]
    },
    {
      "cell_type": "code",
      "source": [],
      "metadata": {
        "id": "qB4MgmsaI8iF"
      },
      "execution_count": 10,
      "outputs": []
    }
  ]
}